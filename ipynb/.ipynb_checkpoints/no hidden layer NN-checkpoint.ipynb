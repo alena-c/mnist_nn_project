{
 "cells": [
  {
   "cell_type": "code",
   "execution_count": 8,
   "metadata": {},
   "outputs": [
    {
     "name": "stdout",
     "output_type": "stream",
     "text": [
      "Epoch 0 : 1135 / 10000\n",
      "Epoch 1 : 1135 / 10000\n",
      "Epoch 2 : 1135 / 10000\n",
      "Epoch 3 : 1135 / 10000\n",
      "Epoch 4 : 1009 / 10000\n",
      "Epoch 5 : 1009 / 10000\n",
      "Epoch 6 : 1028 / 10000\n",
      "Epoch 7 : 1032 / 10000\n",
      "Epoch 8 : 1135 / 10000\n",
      "Epoch 9 : 1135 / 10000\n",
      "Epoch 10 : 1009 / 10000\n",
      "Epoch 11 : 1009 / 10000\n",
      "Epoch 12 : 1028 / 10000\n",
      "Epoch 13 : 958 / 10000\n",
      "Epoch 14 : 1009 / 10000\n",
      "Epoch 15 : 1135 / 10000\n",
      "Epoch 16 : 1135 / 10000\n",
      "Epoch 17 : 958 / 10000\n",
      "Epoch 18 : 982 / 10000\n",
      "Epoch 19 : 1135 / 10000\n",
      "Epoch 20 : 958 / 10000\n",
      "Epoch 21 : 1135 / 10000\n",
      "Epoch 22 : 1009 / 10000\n",
      "Epoch 23 : 1010 / 10000\n",
      "Epoch 24 : 1135 / 10000\n",
      "Epoch 25 : 1135 / 10000\n",
      "Epoch 26 : 1032 / 10000\n",
      "Epoch 27 : 1028 / 10000\n",
      "Epoch 28 : 1135 / 10000\n",
      "Epoch 29 : 980 / 10000\n"
     ]
    }
   ],
   "source": [
    "# Shows that accuracy is less than random without a hidden layer\n",
    "import mnist_loader\n",
    "import network_0\n",
    "\n",
    "training_data, validation_data, test_data = mnist_loader.load_data_wrapper()\n",
    "net = network_0.Network([784, 0, 10])\n",
    "net.SGD(training_data, 30, 10, 3.0, test_data=test_data)"
   ]
  }
 ],
 "metadata": {
  "kernelspec": {
   "display_name": "Python 3",
   "language": "python",
   "name": "python3"
  },
  "language_info": {
   "codemirror_mode": {
    "name": "ipython",
    "version": 3
   },
   "file_extension": ".py",
   "mimetype": "text/x-python",
   "name": "python",
   "nbconvert_exporter": "python",
   "pygments_lexer": "ipython3",
   "version": "3.7.1"
  }
 },
 "nbformat": 4,
 "nbformat_minor": 2
}
