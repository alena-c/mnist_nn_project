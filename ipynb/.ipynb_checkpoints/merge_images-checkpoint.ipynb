{
 "cells": [
  {
   "cell_type": "code",
   "execution_count": 31,
   "metadata": {},
   "outputs": [
    {
     "data": {
      "text/plain": [
       "True"
      ]
     },
     "execution_count": 31,
     "metadata": {},
     "output_type": "execute_result"
    }
   ],
   "source": [
    "import cv2\n",
    "import numpy\n",
    "import glob\n",
    "import os\n",
    "\n",
    "dir = '.' # current directory\n",
    "ext = \".png\" # whatever extension you want\n",
    "\n",
    "pathname = os.path.join(dir, \"d_*\" + ext)\n",
    "images = [cv2.imread(img) for img in glob.glob(pathname)]\n",
    "\n",
    "height = max(image.shape[0] for image in images)\n",
    "width = sum(image.shape[1] for image in images)\n",
    "output = numpy.zeros((height,width,3))\n",
    "\n",
    "y = 0\n",
    "for image in images:\n",
    "    h,w,d = image.shape\n",
    "    output[0:h,y:y+w] = image\n",
    "\n",
    "#     [y:y+h,0:w]\n",
    "    y +=w\n",
    "    \n",
    "cv2.imwrite(\"joined.png\", output)"
   ]
  }
 ],
 "metadata": {
  "kernelspec": {
   "display_name": "Python 3",
   "language": "python",
   "name": "python3"
  },
  "language_info": {
   "codemirror_mode": {
    "name": "ipython",
    "version": 3
   },
   "file_extension": ".py",
   "mimetype": "text/x-python",
   "name": "python",
   "nbconvert_exporter": "python",
   "pygments_lexer": "ipython3",
   "version": "3.7.1"
  }
 },
 "nbformat": 4,
 "nbformat_minor": 2
}
