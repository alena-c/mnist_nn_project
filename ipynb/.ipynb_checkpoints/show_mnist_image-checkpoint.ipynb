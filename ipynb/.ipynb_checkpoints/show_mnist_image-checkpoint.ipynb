{
 "cells": [
  {
   "cell_type": "code",
   "execution_count": 4,
   "metadata": {},
   "outputs": [],
   "source": [
    "# Visualizes specified image from the MNIST database\n",
    "\n",
    "import pickle\n",
    "import gzip\n",
    "\n",
    "import matplotlib.pyplot as plt\n",
    "import numpy as np\n",
    "%matplotlib inline"
   ]
  },
  {
   "cell_type": "code",
   "execution_count": 17,
   "metadata": {},
   "outputs": [
    {
     "data": {
      "image/png": "[encoded data removed]",
      "text/plain": [
       "<Figure size 432x288 with 1 Axes>"
      ]
     },
     "metadata": {
      "needs_background": "light"
     },
     "output_type": "display_data"
    }
   ],
   "source": [
    "def vectorized_result(i):\n",
    "    label = np.zeros((10, 1))\n",
    "    label[i] = 1.0\n",
    "    return e\n",
    "    \n",
    "def load_data():\n",
    "    f = gzip.open('mnist.pkl.gz', 'rb')\n",
    "    training_data, validation_data, test_data = pickle.load(f, encoding=\"latin1\")\n",
    "    f.close()\n",
    "    return (training_data, validation_data, test_data)\n",
    "\n",
    "tr_d, va_d, te_d = load_data()\n",
    "training_inputs = [np.reshape(x, (784, 1)) for x in tr_d[0]]\n",
    "training_results = [vectorized_result(y) for y in tr_d[1]]\n",
    "training_data = list(zip(training_inputs, training_results))\n",
    "\n",
    "type(training_data[0][0])\n",
    "\n",
    "type(training_inputs[0][0])\n",
    "len(training_inputs[0])\n",
    "arr = training_inputs[987]\n",
    "\n",
    "def displayMNIST(imageAsArray):\n",
    "    imageAsArray = imageAsArray.reshape(28, 28);\n",
    "    plt.imshow(imageAsArray, cmap='gray')\n",
    "#     plt.show()\n",
    "\n",
    "displayMNIST(arr) \n"
   ]
  }
 ],
 "metadata": {
  "kernelspec": {
   "display_name": "Python 3",
   "language": "python",
   "name": "python3"
  },
  "language_info": {
   "codemirror_mode": {
    "name": "ipython",
    "version": 3
   },
   "file_extension": ".py",
   "mimetype": "text/x-python",
   "name": "python",
   "nbconvert_exporter": "python",
   "pygments_lexer": "ipython3",
   "version": "3.7.1"
  }
 },
 "nbformat": 4,
 "nbformat_minor": 2
}
